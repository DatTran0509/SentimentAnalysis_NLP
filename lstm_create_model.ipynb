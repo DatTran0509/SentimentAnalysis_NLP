{
 "cells": [
  {
   "cell_type": "markdown",
   "metadata": {},
   "source": [
    "## Create Word2Vec Model\n",
    "\n",
    "---"
   ]
  },
  {
   "cell_type": "code",
   "execution_count": 1,
   "metadata": {},
   "outputs": [],
   "source": [
    "from gensim.models import Word2Vec\n",
    "from utils.preprocessing import tokenizeWords, readData"
   ]
  },
  {
   "cell_type": "code",
   "execution_count": 2,
   "metadata": {},
   "outputs": [],
   "source": [
    "# from createWord2VecModel import createW2VModel\n",
    "# createW2VModel(models = [\"skipgram\", \"cbow\"])\n",
    "\n",
    "def createW2VModel(models = [\"skipgram\"]):\n",
    "    models = models\n",
    "    sentences = readData(\"_UIT-VSFC/Corpus.txt\")\n",
    "    tokenizedWords = tokenizeWords(sentences)\n",
    "    #sentences=tokenizedWords,\n",
    "    '''\n",
    "    vector_size=200 \n",
    "    window=10 \n",
    "    min_count=5 \n",
    "    workers=4\n",
    "    epochs = 10\n",
    "    '''\n",
    "    # Generate Word2Vec Model\n",
    "    for model_type in models:\n",
    "        if model_type == 'skipgram':\n",
    "            model = Word2Vec(tokenizedWords, sg = 1, vector_size=200, window=10, min_count=5, workers=4, epochs = 10)\n",
    "        elif model_type == 'cbow':\n",
    "            model = Word2Vec(tokenizedWords, sg = 0, vector_size=200, window=10, min_count=5, workers=4, epochs = 10)\n",
    "        model.save(f'word2vec/{model}_model.bin')\n",
    "    \n",
    "    print(\"Succesfully\")"
   ]
  },
  {
   "cell_type": "code",
   "execution_count": 3,
   "metadata": {},
   "outputs": [
    {
     "name": "stdout",
     "output_type": "stream",
     "text": [
      "Succesfully\n"
     ]
    }
   ],
   "source": [
    "createW2VModel(models = [\"skipgram\", \"cbow\"])"
   ]
  },
  {
   "cell_type": "markdown",
   "metadata": {},
   "source": [
    "---"
   ]
  },
  {
   "cell_type": "markdown",
   "metadata": {},
   "source": [
    "## Visualize Words"
   ]
  },
  {
   "cell_type": "markdown",
   "metadata": {},
   "source": [
    "---\n",
    "\n",
    "### Skip-gram\n",
    "\n",
    "---"
   ]
  },
  {
   "cell_type": "code",
   "execution_count": 4,
   "metadata": {},
   "outputs": [
    {
     "name": "stdout",
     "output_type": "stream",
     "text": [
      "Các từ tương tự với 'giảng viên': [('giáo viên', 0.7961173057556152), ('thầy giáo', 0.6603303551673889), ('thầy', 0.6395307183265686), ('lịch sự', 0.6110140085220337), ('cô', 0.6044704914093018), ('hết lòng', 0.6004809141159058), ('cẩn thận', 0.5924038887023926), ('đều đặn', 0.5840983986854553), ('kỹ lưỡng', 0.5753787159919739), ('hăng say', 0.5736873149871826)]\n"
     ]
    }
   ],
   "source": [
    "# Tải mô hình skipgram đã được lưu\n",
    "w2v_skipgram = Word2Vec.load(\"word2vec/skipgram_model.bin\")\n",
    "\n",
    "# Tìm những từ tương tự với từ \"giảng viên\"\n",
    "similar_words = w2v_skipgram.wv.most_similar(\"giảng viên\")\n",
    "print(\"Các từ tương tự với 'giảng viên':\", similar_words)\n"
   ]
  },
  {
   "cell_type": "code",
   "execution_count": 5,
   "metadata": {},
   "outputs": [
    {
     "name": "stdout",
     "output_type": "stream",
     "text": [
      "Kích thước của các vector từ: (1417, 200)\n"
     ]
    }
   ],
   "source": [
    "# In ra kích thước của các vector đã huấn luyện\n",
    "print(\"Kích thước của các vector từ:\", w2v_skipgram.wv.vectors.shape)\n"
   ]
  },
  {
   "cell_type": "code",
   "execution_count": 6,
   "metadata": {},
   "outputs": [
    {
     "data": {
      "text/plain": [
       "array([[-0.06999846,  0.01738616,  0.07625765, ..., -0.13496086,\n",
       "        -0.32864907,  0.04504812],\n",
       "       [-0.06319322, -0.11086356, -0.22311804, ..., -0.27447897,\n",
       "         0.04968915, -0.04957581],\n",
       "       [ 0.09250087,  0.09543615, -0.04298763, ..., -0.27389285,\n",
       "         0.15466587, -0.09806242],\n",
       "       ...,\n",
       "       [ 0.08734204, -0.0371408 , -0.05605735, ..., -0.13211888,\n",
       "         0.08088096, -0.09598753],\n",
       "       [-0.0295964 , -0.16139153,  0.07612254, ..., -0.2673467 ,\n",
       "        -0.0628435 ,  0.00175544],\n",
       "       [ 0.06970941,  0.0062299 , -0.03256002, ..., -0.06889631,\n",
       "        -0.00192125, -0.07397635]], dtype=float32)"
      ]
     },
     "execution_count": 6,
     "metadata": {},
     "output_type": "execute_result"
    }
   ],
   "source": [
    "# Lấy tất cả các vector từ\n",
    "all_vectors = w2v_skipgram.wv.vectors\n",
    "all_vectors"
   ]
  },
  {
   "cell_type": "code",
   "execution_count": 7,
   "metadata": {},
   "outputs": [
    {
     "data": {
      "text/plain": [
       "(1417, 200)"
      ]
     },
     "execution_count": 7,
     "metadata": {},
     "output_type": "execute_result"
    }
   ],
   "source": [
    "all_vectors.shape"
   ]
  },
  {
   "cell_type": "code",
   "execution_count": 8,
   "metadata": {},
   "outputs": [
    {
     "data": {
      "text/plain": [
       "(200,)"
      ]
     },
     "execution_count": 8,
     "metadata": {},
     "output_type": "execute_result"
    }
   ],
   "source": [
    "all_vectors[1].shape"
   ]
  },
  {
   "cell_type": "markdown",
   "metadata": {},
   "source": [
    "### Save Skipgram Vectors"
   ]
  },
  {
   "cell_type": "code",
   "execution_count": 9,
   "metadata": {},
   "outputs": [
    {
     "name": "stdout",
     "output_type": "stream",
     "text": [
      "Đã lưu thành công từ điển từ và vector vào 'utils/words_dict.pkl'\n"
     ]
    }
   ],
   "source": [
    "# Tạo một dictionary chứa từ và vector tương ứng\n",
    "import pickle as pkl\n",
    "words = dict()\n",
    "\n",
    "for word in w2v_skipgram.wv.index_to_key:  # index_to_key chứa danh sách các từ\n",
    "    words[word] = w2v_skipgram.wv.get_vector(word)\n",
    "\n",
    "# Lưu từ điển từ và vector vào tệp .pkl\n",
    "with open(\"utils/words_dict.pkl\", 'wb') as file:\n",
    "    pkl.dump(words, file)\n",
    "\n",
    "print(\"Đã lưu thành công từ điển từ và vector vào 'utils/words_dict.pkl'\")"
   ]
  },
  {
   "cell_type": "code",
   "execution_count": 10,
   "metadata": {},
   "outputs": [
    {
     "data": {
      "text/plain": [
       "1417"
      ]
     },
     "execution_count": 10,
     "metadata": {},
     "output_type": "execute_result"
    }
   ],
   "source": [
    "len(words)"
   ]
  },
  {
   "cell_type": "code",
   "execution_count": 11,
   "metadata": {},
   "outputs": [],
   "source": [
    "# Load Vectorizer\n",
    "with open(\"utils/words_dict.pkl\", \"rb\") as file:\n",
    "    words = pkl.load(file)"
   ]
  },
  {
   "cell_type": "markdown",
   "metadata": {},
   "source": [
    "---\n",
    "\n",
    "## Processing\n",
    "\n",
    "---"
   ]
  },
  {
   "cell_type": "code",
   "execution_count": 12,
   "metadata": {},
   "outputs": [],
   "source": [
    "from underthesea import word_tokenize\n",
    "from utils.preprocessing import remove_punctuation\n",
    "import numpy as np\n",
    "def tokenize_vietnamese_sentence(sentence):\n",
    "    return word_tokenize(remove_punctuation(sentence.lower()))\n",
    "\n",
    "def sent2vec(message, word_dict = words):\n",
    "    tokens = tokenize_vietnamese_sentence(message)\n",
    "    vectors = []\n",
    "    \n",
    "    for token in tokens:\n",
    "        if token not in word_dict.keys():\n",
    "            continue\n",
    "        token_vector = word_dict[token]\n",
    "        vectors.append(token_vector)\n",
    "    return np.array(vectors, dtype=float)"
   ]
  },
  {
   "cell_type": "code",
   "execution_count": 13,
   "metadata": {},
   "outputs": [
    {
     "data": {
      "text/plain": [
       "(3, 200)"
      ]
     },
     "execution_count": 13,
     "metadata": {},
     "output_type": "execute_result"
    }
   ],
   "source": [
    "sent2vec(\"thầy dạy tốt.\").shape"
   ]
  },
  {
   "cell_type": "code",
   "execution_count": 14,
   "metadata": {},
   "outputs": [],
   "source": [
    "import pandas as pd\n",
    "train_df = pd.read_csv(\"Data/train.csv\")\n",
    "dev_df   = pd.read_csv(\"Data/dev.csv\")\n",
    "test_df  = pd.read_csv(\"Data/test.csv\")\n",
    "\n",
    "X_train, y_train = train_df[\"sents\"], train_df[\"sentiments\"]\n",
    "X_dev, y_dev = dev_df[\"sents\"], dev_df[\"sentiments\"]\n",
    "X_test, y_test = test_df[\"sents\"], test_df[\"sentiments\"]"
   ]
  },
  {
   "cell_type": "code",
   "execution_count": 15,
   "metadata": {},
   "outputs": [
    {
     "data": {
      "text/plain": [
       "(11426, 1583, 3166)"
      ]
     },
     "execution_count": 15,
     "metadata": {},
     "output_type": "execute_result"
    }
   ],
   "source": [
    "len(train_df), len(dev_df), len(test_df)"
   ]
  },
  {
   "cell_type": "code",
   "execution_count": 16,
   "metadata": {},
   "outputs": [],
   "source": [
    "def df_to_X_y(dataframe):\n",
    "    y = dataframe[\"sentiments\"].to_numpy().astype(int)\n",
    "    \n",
    "    all_word_vector_sequences = []\n",
    "    \n",
    "    for message in dataframe[\"sents\"]:\n",
    "      message_as_vector_seq = sent2vec(message)\n",
    "      if message_as_vector_seq.shape[0] == 0:\n",
    "        message_as_vector_seq = np.zeros(shape=(1, 200))\n",
    "\n",
    "      all_word_vector_sequences.append(message_as_vector_seq)\n",
    "    \n",
    "    return all_word_vector_sequences, y"
   ]
  },
  {
   "cell_type": "code",
   "execution_count": 17,
   "metadata": {},
   "outputs": [
    {
     "name": "stdout",
     "output_type": "stream",
     "text": [
      "11426 3\n"
     ]
    }
   ],
   "source": [
    "X_train, y_train = df_to_X_y(train_df)\n",
    "\n",
    "print(len(X_train), len(X_train[0]))"
   ]
  },
  {
   "cell_type": "code",
   "execution_count": 18,
   "metadata": {},
   "outputs": [
    {
     "name": "stdout",
     "output_type": "stream",
     "text": [
      "11426 5\n"
     ]
    }
   ],
   "source": [
    "print(len(X_train), len(X_train[2]))"
   ]
  },
  {
   "cell_type": "code",
   "execution_count": 19,
   "metadata": {},
   "outputs": [
    {
     "data": {
      "text/plain": [
       "(array([8.174e+03, 2.439e+03, 5.870e+02, 1.460e+02, 5.000e+01, 2.100e+01,\n",
       "        5.000e+00, 1.000e+00, 1.000e+00, 2.000e+00]),\n",
       " array([ 1. , 10.7, 20.4, 30.1, 39.8, 49.5, 59.2, 68.9, 78.6, 88.3, 98. ]),\n",
       " <BarContainer object of 10 artists>)"
      ]
     },
     "execution_count": 19,
     "metadata": {},
     "output_type": "execute_result"
    },
    {
     "data": {
      "image/png": "[encoded data removed]",
      "text/plain": [
       "<Figure size 640x480 with 1 Axes>"
      ]
     },
     "metadata": {},
     "output_type": "display_data"
    }
   ],
   "source": [
    "sequence_lengths = []\n",
    "\n",
    "for i in range(len(X_train)):\n",
    "  sequence_lengths.append(len(X_train[i]))\n",
    "\n",
    "import matplotlib.pyplot as plt\n",
    "\n",
    "plt.hist(sequence_lengths)"
   ]
  },
  {
   "cell_type": "code",
   "execution_count": 20,
   "metadata": {},
   "outputs": [
    {
     "data": {
      "text/plain": [
       "count    11426.000000\n",
       "mean         9.224313\n",
       "std          7.202322\n",
       "min          1.000000\n",
       "25%          5.000000\n",
       "50%          7.000000\n",
       "75%         11.000000\n",
       "max         98.000000\n",
       "dtype: float64"
      ]
     },
     "execution_count": 20,
     "metadata": {},
     "output_type": "execute_result"
    }
   ],
   "source": [
    "pd.Series(sequence_lengths).describe()"
   ]
  },
  {
   "cell_type": "code",
   "execution_count": 21,
   "metadata": {},
   "outputs": [],
   "source": [
    "from copy import deepcopy\n",
    "\n",
    "# Create sequences padding for X\n",
    "def pad_sequences(X, desired_sequence_length=205):\n",
    "  X_copy = deepcopy(X)\n",
    "\n",
    "  for i, x in enumerate(X):\n",
    "    x_seq_len = x.shape[0]\n",
    "    sequence_length_difference = desired_sequence_length - x_seq_len\n",
    "    \n",
    "    pad = np.zeros(shape=(sequence_length_difference, 200))\n",
    "\n",
    "    X_copy[i] = np.concatenate([x, pad])\n",
    "  \n",
    "  return np.array(X_copy).astype(float)"
   ]
  },
  {
   "cell_type": "code",
   "execution_count": 22,
   "metadata": {},
   "outputs": [
    {
     "data": {
      "text/plain": [
       "(11426, 205, 200)"
      ]
     },
     "execution_count": 22,
     "metadata": {},
     "output_type": "execute_result"
    }
   ],
   "source": [
    "X_train = pad_sequences(X_train)\n",
    "\n",
    "X_train.shape"
   ]
  },
  {
   "cell_type": "code",
   "execution_count": 23,
   "metadata": {},
   "outputs": [
    {
     "data": {
      "text/plain": [
       "(11426,)"
      ]
     },
     "execution_count": 23,
     "metadata": {},
     "output_type": "execute_result"
    }
   ],
   "source": [
    "y_train.shape"
   ]
  },
  {
   "cell_type": "code",
   "execution_count": 24,
   "metadata": {},
   "outputs": [
    {
     "data": {
      "text/plain": [
       "((1583, 205, 200), (1583,))"
      ]
     },
     "execution_count": 24,
     "metadata": {},
     "output_type": "execute_result"
    }
   ],
   "source": [
    "X_val, y_val = df_to_X_y(dev_df)\n",
    "X_val = pad_sequences(X_val)\n",
    "\n",
    "X_val.shape, y_val.shape"
   ]
  },
  {
   "cell_type": "code",
   "execution_count": 25,
   "metadata": {},
   "outputs": [
    {
     "data": {
      "text/plain": [
       "((3166, 205, 200), (3166,))"
      ]
     },
     "execution_count": 25,
     "metadata": {},
     "output_type": "execute_result"
    }
   ],
   "source": [
    "X_test, y_test = df_to_X_y(test_df)\n",
    "X_test = pad_sequences(X_test)\n",
    "\n",
    "X_test.shape, y_test.shape"
   ]
  },
  {
   "cell_type": "markdown",
   "metadata": {},
   "source": [
    "---\n",
    "\n",
    "## Generate LSTM Model\n",
    "\n",
    "---"
   ]
  },
  {
   "cell_type": "code",
   "execution_count": 41,
   "metadata": {},
   "outputs": [],
   "source": [
    "\n",
    "from keras import layers\n",
    "from keras.models import Sequential\n",
    "model = Sequential()\n",
    "model.add(layers.Dropout(0.2))\n",
    "model.add(layers.Bidirectional(layers.LSTM(128, return_sequences=True)))\n",
    "model.add(layers.Dropout(0.2))\n",
    "model.add(layers.Bidirectional(layers.LSTM(64, return_sequences=True)))\n",
    "model.add(layers.Dropout(0.2))\n",
    "model.add(layers.Bidirectional(layers.LSTM(32)))\n",
    "model.add(layers.Dense(64, activation='relu'))  # Lớp Dense trung gian\n",
    "model.add(layers.Dropout(0.3))\n",
    "model.add(layers.Dense(3, activation='softmax'))  # Lớp đầu ra\n"
   ]
  },
  {
   "cell_type": "code",
   "execution_count": 42,
   "metadata": {},
   "outputs": [],
   "source": [
    "from keras.losses import BinaryCrossentropy\n",
    "from keras.optimizers import Adam\n",
    "from keras.metrics import AUC\n",
    "\n",
    "# Import the legacy optimizer\n",
    "from keras.optimizers import legacy\n",
    "from keras.callbacks import ModelCheckpoint\n",
    "\n",
    "# Lưu trọng số tốt nhất vào một tệp cụ thể\n",
    "cp = ModelCheckpoint(filepath='models/best_weights.h5',  # Đường dẫn tệp cụ thể\n",
    "                     monitor='val_loss',                # Theo dõi 'val_loss'\n",
    "                     save_best_only=True,               # Chỉ lưu khi đạt kết quả tốt nhất\n",
    "                     save_weights_only=True,            # Chỉ lưu trọng số\n",
    "                     verbose=1)\n",
    "\n",
    "\n",
    "# Use the legacy Adam optimizer\n",
    "optimizer = legacy.Adam(learning_rate=0.005)\n",
    "\n",
    "model.compile(optimizer='adam', loss='sparse_categorical_crossentropy', metrics=['accuracy'])"
   ]
  },
  {
   "cell_type": "code",
   "execution_count": 43,
   "metadata": {},
   "outputs": [
    {
     "data": {
      "text/plain": [
       "sentiments\n",
       "2    5643\n",
       "0    5325\n",
       "1     458\n",
       "Name: count, dtype: int64"
      ]
     },
     "execution_count": 43,
     "metadata": {},
     "output_type": "execute_result"
    }
   ],
   "source": [
    "frequencies = pd.value_counts(train_df['sentiments'])\n",
    "\n",
    "frequencies"
   ]
  },
  {
   "cell_type": "code",
   "execution_count": 44,
   "metadata": {},
   "outputs": [
    {
     "data": {
      "text/plain": [
       "{0: 2.1457276995305166, 1: 24.94759825327511, 2: 2.024809498493709}"
      ]
     },
     "execution_count": 44,
     "metadata": {},
     "output_type": "execute_result"
    }
   ],
   "source": [
    "weights = {0: frequencies.sum() / frequencies[0], 1: frequencies.sum() / frequencies[1], 2: frequencies.sum() / frequencies[2]}\n",
    "weights"
   ]
  },
  {
   "cell_type": "code",
   "execution_count": 45,
   "metadata": {},
   "outputs": [
    {
     "name": "stdout",
     "output_type": "stream",
     "text": [
      "Epoch 1/20\n",
      "358/358 [==============================] - ETA: 0s - loss: 1.9731 - accuracy: 0.7731\n",
      "Epoch 1: val_loss improved from inf to 0.48261, saving model to models/best_weights.h5\n",
      "358/358 [==============================] - 188s 511ms/step - loss: 1.9731 - accuracy: 0.7731 - val_loss: 0.4826 - val_accuracy: 0.8035\n",
      "Epoch 2/20\n",
      "358/358 [==============================] - ETA: 0s - loss: 1.5842 - accuracy: 0.8116\n",
      "Epoch 2: val_loss improved from 0.48261 to 0.43333, saving model to models/best_weights.h5\n",
      "358/358 [==============================] - 270s 755ms/step - loss: 1.5842 - accuracy: 0.8116 - val_loss: 0.4333 - val_accuracy: 0.8219\n",
      "Epoch 3/20\n",
      "358/358 [==============================] - ETA: 0s - loss: 1.4299 - accuracy: 0.8265\n",
      "Epoch 3: val_loss did not improve from 0.43333\n",
      "358/358 [==============================] - 268s 749ms/step - loss: 1.4299 - accuracy: 0.8265 - val_loss: 0.4573 - val_accuracy: 0.8067\n",
      "Epoch 4/20\n",
      "358/358 [==============================] - ETA: 0s - loss: 1.3456 - accuracy: 0.8405\n",
      "Epoch 4: val_loss improved from 0.43333 to 0.35236, saving model to models/best_weights.h5\n",
      "358/358 [==============================] - 210s 586ms/step - loss: 1.3456 - accuracy: 0.8405 - val_loss: 0.3524 - val_accuracy: 0.8768\n",
      "Epoch 5/20\n",
      "358/358 [==============================] - ETA: 0s - loss: 1.3085 - accuracy: 0.8478\n",
      "Epoch 5: val_loss did not improve from 0.35236\n",
      "358/358 [==============================] - 223s 623ms/step - loss: 1.3085 - accuracy: 0.8478 - val_loss: 0.3740 - val_accuracy: 0.8661\n",
      "Epoch 6/20\n",
      "358/358 [==============================] - ETA: 0s - loss: 1.2376 - accuracy: 0.8580\n",
      "Epoch 6: val_loss did not improve from 0.35236\n",
      "358/358 [==============================] - 204s 570ms/step - loss: 1.2376 - accuracy: 0.8580 - val_loss: 0.4439 - val_accuracy: 0.8244\n",
      "Epoch 7/20\n",
      "358/358 [==============================] - ETA: 0s - loss: 1.1701 - accuracy: 0.8626\n",
      "Epoch 7: val_loss improved from 0.35236 to 0.32756, saving model to models/best_weights.h5\n",
      "358/358 [==============================] - 216s 603ms/step - loss: 1.1701 - accuracy: 0.8626 - val_loss: 0.3276 - val_accuracy: 0.8819\n",
      "Epoch 8/20\n",
      "358/358 [==============================] - ETA: 0s - loss: 1.1012 - accuracy: 0.8760\n",
      "Epoch 8: val_loss did not improve from 0.32756\n",
      "358/358 [==============================] - 197s 550ms/step - loss: 1.1012 - accuracy: 0.8760 - val_loss: 0.3401 - val_accuracy: 0.8585\n",
      "Epoch 9/20\n",
      "358/358 [==============================] - ETA: 0s - loss: 1.0043 - accuracy: 0.8754\n",
      "Epoch 9: val_loss improved from 0.32756 to 0.29873, saving model to models/best_weights.h5\n",
      "358/358 [==============================] - 181s 506ms/step - loss: 1.0043 - accuracy: 0.8754 - val_loss: 0.2987 - val_accuracy: 0.8882\n",
      "Epoch 10/20\n",
      "358/358 [==============================] - ETA: 0s - loss: 0.9715 - accuracy: 0.8786\n",
      "Epoch 10: val_loss did not improve from 0.29873\n",
      "358/358 [==============================] - 192s 535ms/step - loss: 0.9715 - accuracy: 0.8786 - val_loss: 0.3165 - val_accuracy: 0.8724\n",
      "Epoch 11/20\n",
      "358/358 [==============================] - ETA: 0s - loss: 0.9431 - accuracy: 0.8804\n",
      "Epoch 11: val_loss did not improve from 0.29873\n",
      "358/358 [==============================] - 198s 554ms/step - loss: 0.9431 - accuracy: 0.8804 - val_loss: 0.3414 - val_accuracy: 0.8699\n",
      "Epoch 12/20\n",
      "358/358 [==============================] - ETA: 0s - loss: 0.8743 - accuracy: 0.8926\n",
      "Epoch 12: val_loss did not improve from 0.29873\n",
      "358/358 [==============================] - 215s 601ms/step - loss: 0.8743 - accuracy: 0.8926 - val_loss: 0.3101 - val_accuracy: 0.8857\n",
      "Epoch 13/20\n",
      "358/358 [==============================] - ETA: 0s - loss: 0.8153 - accuracy: 0.8961\n",
      "Epoch 13: val_loss improved from 0.29873 to 0.27246, saving model to models/best_weights.h5\n",
      "358/358 [==============================] - 196s 547ms/step - loss: 0.8153 - accuracy: 0.8961 - val_loss: 0.2725 - val_accuracy: 0.9002\n",
      "Epoch 14/20\n",
      "358/358 [==============================] - ETA: 0s - loss: 0.7883 - accuracy: 0.9077\n",
      "Epoch 14: val_loss did not improve from 0.27246\n",
      "358/358 [==============================] - 206s 576ms/step - loss: 0.7883 - accuracy: 0.9077 - val_loss: 0.3381 - val_accuracy: 0.8762\n",
      "Epoch 15/20\n",
      "358/358 [==============================] - ETA: 0s - loss: 0.6998 - accuracy: 0.9111\n",
      "Epoch 15: val_loss did not improve from 0.27246\n",
      "358/358 [==============================] - 205s 573ms/step - loss: 0.6998 - accuracy: 0.9111 - val_loss: 0.2897 - val_accuracy: 0.9097\n",
      "Epoch 16/20\n",
      "358/358 [==============================] - ETA: 0s - loss: 0.6726 - accuracy: 0.9101\n",
      "Epoch 16: val_loss did not improve from 0.27246\n",
      "358/358 [==============================] - 201s 562ms/step - loss: 0.6726 - accuracy: 0.9101 - val_loss: 0.2864 - val_accuracy: 0.8951\n",
      "Epoch 17/20\n",
      "358/358 [==============================] - ETA: 0s - loss: 0.6908 - accuracy: 0.9081\n",
      "Epoch 17: val_loss did not improve from 0.27246\n",
      "358/358 [==============================] - 174s 486ms/step - loss: 0.6908 - accuracy: 0.9081 - val_loss: 0.3188 - val_accuracy: 0.8895\n",
      "Epoch 18/20\n",
      "358/358 [==============================] - ETA: 0s - loss: 0.6329 - accuracy: 0.9141\n",
      "Epoch 18: val_loss did not improve from 0.27246\n",
      "358/358 [==============================] - 188s 525ms/step - loss: 0.6329 - accuracy: 0.9141 - val_loss: 0.3747 - val_accuracy: 0.8699\n",
      "Epoch 19/20\n",
      "358/358 [==============================] - ETA: 0s - loss: 0.6206 - accuracy: 0.9148\n",
      "Epoch 19: val_loss did not improve from 0.27246\n",
      "358/358 [==============================] - 169s 471ms/step - loss: 0.6206 - accuracy: 0.9148 - val_loss: 0.3350 - val_accuracy: 0.8756\n",
      "Epoch 20/20\n",
      "358/358 [==============================] - ETA: 0s - loss: 0.5588 - accuracy: 0.9220\n",
      "Epoch 20: val_loss did not improve from 0.27246\n",
      "358/358 [==============================] - 169s 472ms/step - loss: 0.5588 - accuracy: 0.9220 - val_loss: 0.2948 - val_accuracy: 0.9040\n"
     ]
    }
   ],
   "source": [
    "# Huấn luyện mô hình với cả EarlyStopping và ModelCheckpoint\n",
    "history = model.fit(\n",
    "    X_train, y_train, \n",
    "    validation_data=(X_val, y_val), \n",
    "    epochs=20, \n",
    "    callbacks=[cp],  \n",
    "    class_weight=weights\n",
    "    )"
   ]
  },
  {
   "cell_type": "code",
   "execution_count": 55,
   "metadata": {},
   "outputs": [
    {
     "data": {
      "image/png": "[encoded data removed]",
      "text/plain": [
       "<Figure size 1000x500 with 1 Axes>"
      ]
     },
     "metadata": {},
     "output_type": "display_data"
    },
    {
     "data": {
      "image/png": "[encoded data removed]",
      "text/plain": [
       "<Figure size 1000x500 with 1 Axes>"
      ]
     },
     "metadata": {},
     "output_type": "display_data"
    }
   ],
   "source": [
    "import matplotlib.pyplot as plt\n",
    "\n",
    "# Lấy thông tin từ history\n",
    "train_loss = history.history['loss']\n",
    "val_loss = history.history['val_loss']\n",
    "train_accuracy = history.history['accuracy']  # Thay 'accuracy' bằng tên metric nếu khác\n",
    "val_accuracy = history.history['val_accuracy']  # Tương tự\n",
    "\n",
    "# Vẽ biểu đồ Loss\n",
    "plt.figure(figsize=(10, 5))\n",
    "plt.plot(train_loss, label='Train Loss')\n",
    "plt.plot(val_loss, label='Validation Loss')\n",
    "plt.title('Training and Validation Loss')\n",
    "plt.xlabel('Epochs')\n",
    "plt.ylabel('Loss')\n",
    "plt.legend()\n",
    "plt.grid()\n",
    "plt.show()\n",
    "\n",
    "# Vẽ biểu đồ Accuracy\n",
    "plt.figure(figsize=(10, 5))\n",
    "plt.plot(train_accuracy, label='Train Accuracy')\n",
    "plt.plot(val_accuracy, label='Validation Accuracy')\n",
    "plt.title('Training and Validation Accuracy')\n",
    "plt.xlabel('Epochs')\n",
    "plt.ylabel('Accuracy')\n",
    "plt.legend()\n",
    "plt.grid()\n",
    "plt.show()\n"
   ]
  },
  {
   "cell_type": "code",
   "execution_count": 47,
   "metadata": {},
   "outputs": [],
   "source": [
    "from keras.models import load_model\n",
    "\n",
    "# Tải trọng số tốt nhất vào mô hình\n",
    "model.load_weights('models/best_weights.h5')\n",
    "\n",
    "# Lưu toàn bộ mô hình với trọng số tốt nhất\n",
    "model.save('models/best_lstm_model.h5')"
   ]
  },
  {
   "cell_type": "markdown",
   "metadata": {},
   "source": [
    "# Evaluate on Test set"
   ]
  },
  {
   "cell_type": "markdown",
   "metadata": {},
   "source": [
    "## Classification Report"
   ]
  },
  {
   "cell_type": "code",
   "execution_count": 48,
   "metadata": {},
   "outputs": [],
   "source": [
    "from keras.models import load_model\n",
    "\n",
    "# Assuming you have trained and saved your model as follows\n",
    "# model.save(\"models/lstm_model.h5\")\n",
    "\n",
    "# Now, to load the model for later use\n",
    "loaded_model = load_model(\"models/lstm_model.h5\")\n",
    "\n",
    "# You can now use the loaded_model for predictions or further training"
   ]
  },
  {
   "cell_type": "code",
   "execution_count": 49,
   "metadata": {},
   "outputs": [
    {
     "name": "stdout",
     "output_type": "stream",
     "text": [
      "99/99 [==============================] - 10s 80ms/step\n"
     ]
    },
    {
     "data": {
      "text/plain": [
       "array([[3.00344941e-03, 9.75583792e-01, 2.14128140e-02],\n",
       "       [2.00956259e-02, 7.48397335e-02, 9.05064642e-01],\n",
       "       [8.66417494e-03, 2.70626019e-03, 9.88629580e-01],\n",
       "       ...,\n",
       "       [1.40151335e-02, 1.12354290e-04, 9.85872507e-01],\n",
       "       [7.10137248e-01, 5.27234655e-03, 2.84590393e-01],\n",
       "       [9.62156773e-01, 1.21266465e-03, 3.66305225e-02]], dtype=float32)"
      ]
     },
     "execution_count": 49,
     "metadata": {},
     "output_type": "execute_result"
    }
   ],
   "source": [
    "test_predictions = (loaded_model.predict(X_test))\n",
    "test_predictions"
   ]
  },
  {
   "cell_type": "code",
   "execution_count": 50,
   "metadata": {},
   "outputs": [
    {
     "name": "stdout",
     "output_type": "stream",
     "text": [
      "[1 2 2 ... 2 0 0]\n"
     ]
    }
   ],
   "source": [
    "# Convert one-hot encoded predictions to class labels\n",
    "predicted_labels = np.argmax(test_predictions, axis=1)\n",
    "\n",
    "print(predicted_labels)"
   ]
  },
  {
   "cell_type": "code",
   "execution_count": 56,
   "metadata": {},
   "outputs": [
    {
     "name": "stdout",
     "output_type": "stream",
     "text": [
      "Report: \n",
      "               precision    recall  f1-score   support\n",
      "\n",
      "           0       0.93      0.87      0.90      1409\n",
      "           1       0.36      0.46      0.40       167\n",
      "           2       0.90      0.92      0.91      1590\n",
      "\n",
      "    accuracy                           0.88      3166\n",
      "   macro avg       0.73      0.75      0.74      3166\n",
      "weighted avg       0.88      0.88      0.88      3166\n",
      "\n"
     ]
    },
    {
     "data": {
      "image/png": "[encoded data removed]",
      "text/plain": [
       "<Figure size 800x600 with 1 Axes>"
      ]
     },
     "metadata": {},
     "output_type": "display_data"
    }
   ],
   "source": [
    "from sklearn.metrics import classification_report, confusion_matrix, precision_score, recall_score, accuracy_score, f1_score\n",
    "import matplotlib.pyplot as plt\n",
    "import seaborn as sns\n",
    "print(\"Report: \\n\",classification_report(y_test,predicted_labels))\n",
    "\n",
    "# Confusion Matrix\n",
    "conf_matrix = confusion_matrix(y_test, predicted_labels)\n",
    "plt.figure(figsize=(8, 6))\n",
    "sns.heatmap(conf_matrix, annot=True, fmt=\"d\", cmap=\"viridis\", cbar=False,\n",
    "            xticklabels=[\"Tiêu cực\", \"Trung lập\", \"Tích cực\"], \n",
    "            yticklabels=[\"Tiêu cực\", \"Trung lập\", \"Tích cực\"])\n",
    "plt.title(\"Confusion Matrix\")\n",
    "plt.xlabel(\"Predicted Labels\")\n",
    "plt.ylabel(\"True Labels\")\n",
    "plt.show()\n"
   ]
  },
  {
   "cell_type": "markdown",
   "metadata": {},
   "source": [
    "---\n",
    "\n",
    "## Prediction\n",
    "\n",
    "---"
   ]
  },
  {
   "cell_type": "code",
   "execution_count": 37,
   "metadata": {},
   "outputs": [],
   "source": [
    "desired_sequence_length = 205"
   ]
  },
  {
   "cell_type": "code",
   "execution_count": 52,
   "metadata": {},
   "outputs": [],
   "source": [
    "from keras.models import load_model\n",
    "lstm_model = load_model(\"models/lstm_model.h5\")"
   ]
  },
  {
   "cell_type": "code",
   "execution_count": 53,
   "metadata": {},
   "outputs": [
    {
     "data": {
      "text/plain": [
       "(1, 205, 200)"
      ]
     },
     "execution_count": 53,
     "metadata": {},
     "output_type": "execute_result"
    }
   ],
   "source": [
    "sentence = \"Thầy giảng bài hay, cho ít bài tập\"\n",
    "def pad_sequence_sentence(sentence):\n",
    "    array = sent2vec(sentence)\n",
    "    arr_seq_len = array.shape[0]\n",
    "    sequence_length_difference = desired_sequence_length - arr_seq_len\n",
    "        \n",
    "    pad = np.zeros(shape=(sequence_length_difference, 200))\n",
    "\n",
    "    array = np.array(np.concatenate([array, pad]))\n",
    "    array = np.expand_dims(array, axis=0)\n",
    "    return array.astype(float)\n",
    "array = pad_sequence_sentence(sentence)\n",
    "array.shape"
   ]
  },
  {
   "cell_type": "code",
   "execution_count": 54,
   "metadata": {},
   "outputs": [
    {
     "name": "stdout",
     "output_type": "stream",
     "text": [
      "1/1 [==============================] - 1s 725ms/step\n",
      "Sentiment:  Tích Cực\n"
     ]
    }
   ],
   "source": [
    "from utils.classify import feedbackSentimentAnalysis\n",
    "\n",
    "prediction = np.argmax(lstm_model.predict(array) > 0.5)\n",
    "sentiment = feedbackSentimentAnalysis(prediction)\n",
    "print(\"Sentiment: \", sentiment)"
   ]
  },
  {
   "cell_type": "code",
   "execution_count": null,
   "metadata": {},
   "outputs": [],
   "source": []
  }
 ],
 "metadata": {
  "kernelspec": {
   "display_name": "base",
   "language": "python",
   "name": "python3"
  },
  "language_info": {
   "codemirror_mode": {
    "name": "ipython",
    "version": 3
   },
   "file_extension": ".py",
   "mimetype": "text/x-python",
   "name": "python",
   "nbconvert_exporter": "python",
   "pygments_lexer": "ipython3",
   "version": "3.11.7"
  }
 },
 "nbformat": 4,
 "nbformat_minor": 2
}
